{
 "cells": [
  {
   "cell_type": "markdown",
   "id": "796a8b0a",
   "metadata": {},
   "source": [
    "# Querying the Model from Python\n",
    "\n",
    "## Basic Request"
   ]
  },
  {
   "cell_type": "code",
   "execution_count": 1,
   "id": "62372fde",
   "metadata": {},
   "outputs": [
    {
     "name": "stdout",
     "output_type": "stream",
     "text": [
      "Status Code: 200\n",
      "Predictions: {'predictions': [6.261801242828369, 6.1460981369018555]}\n"
     ]
    }
   ],
   "source": [
    "import requests\n",
    "import json\n",
    "\n",
    "# API endpoint\n",
    "url = \"http://localhost:5002/predict\"\n",
    "\n",
    "# updated data for new model features\n",
    "data = [\n",
    "    {\n",
    "        \"QuadClass\": 3,\n",
    "        \"GoldsteinScale\": -2.5,\n",
    "        \"ActionGeo_Lat\": 45.5,\n",
    "        \"ActionGeo_Long\": -75.2,\n",
    "        \"EventCode\": 120.0,\n",
    "        \"EventBaseCode\": 12.0,\n",
    "        \"EventRootCode\": 1.0,\n",
    "        \"Actor1Code\": 100.0,\n",
    "        \"Actor1Name\": 50.0,\n",
    "        \"Actor1CountryCode\": 10.0,\n",
    "        \"ActionGeo_CountryCode\": 30.0,\n",
    "        \"year\": 2024,\n",
    "        \"month\": 8,\n",
    "        \"day_of_year\": 230,\n",
    "        \"day_of_week\": 3,\n",
    "        \"is_weekend\": 0\n",
    "    },\n",
    "    {\n",
    "        \"QuadClass\": 2,\n",
    "        \"GoldsteinScale\": -1.5,\n",
    "        \"ActionGeo_Lat\": 40.5,\n",
    "        \"ActionGeo_Long\": -80.2,\n",
    "        \"EventCode\": 110.0,\n",
    "        \"EventBaseCode\": 11.0,\n",
    "        \"EventRootCode\": 1.0,\n",
    "        \"Actor1Code\": 150.0,\n",
    "        \"Actor1Name\": 60.0,\n",
    "        \"Actor1CountryCode\": 15.0,\n",
    "        \"ActionGeo_CountryCode\": 35.0,\n",
    "        \"year\": 2024,\n",
    "        \"month\": 9,\n",
    "        \"day_of_year\": 250,\n",
    "        \"day_of_week\": 1,\n",
    "        \"is_weekend\": 0\n",
    "    }\n",
    "]\n",
    "\n",
    "# Make request\n",
    "response = requests.post(url, json=data)\n",
    "result = response.json()\n",
    "\n",
    "print(\"Status Code:\", response.status_code)\n",
    "print(\"Predictions:\", result)"
   ]
  },
  {
   "cell_type": "markdown",
   "id": "e549701e",
   "metadata": {},
   "source": [
    "## With error handling"
   ]
  },
  {
   "cell_type": "code",
   "execution_count": 2,
   "id": "f0ab1e19",
   "metadata": {},
   "outputs": [
    {
     "name": "stdout",
     "output_type": "stream",
     "text": [
      "Predictions: [6.261801242828369, 6.1460981369018555]\n",
      "Batch size: 2\n"
     ]
    }
   ],
   "source": [
    "import requests\n",
    "\n",
    "def get_predictions(data, url=\"http://localhost:5002/predict\"):\n",
    "    \"\"\"Get predictions from model API\"\"\"\n",
    "    try:\n",
    "        response = requests.post(url, json=data)\n",
    "        response.raise_for_status()  # raises error for bad status codes\n",
    "        return response.json()\n",
    "    except requests.exceptions.RequestException as e:\n",
    "        print(f\"Error: {e}\")\n",
    "        return None\n",
    "\n",
    "# Use it\n",
    "result = get_predictions(data)\n",
    "if result:\n",
    "    print(\"Predictions:\", result[\"predictions\"])\n",
    "    print(\"Batch size:\", result.get(\"batch_size\", len(result[\"predictions\"])))"
   ]
  },
  {
   "cell_type": "markdown",
   "id": "18d590d3",
   "metadata": {},
   "source": [
    "## Test Single vs Batch Prediction"
   ]
  },
  {
   "cell_type": "code",
   "execution_count": 3,
   "id": "3c9bb6ef",
   "metadata": {},
   "outputs": [
    {
     "name": "stdout",
     "output_type": "stream",
     "text": [
      "Single prediction: {'prediction': 6.261801242828369}\n",
      "Batch predictions: {'predictions': [6.261801242828369, 6.1460981369018555]}\n"
     ]
    }
   ],
   "source": [
    "# Single prediction with new features\n",
    "single_data = {\n",
    "    \"QuadClass\": 3,\n",
    "    \"GoldsteinScale\": -2.5,\n",
    "    \"ActionGeo_Lat\": 45.5,\n",
    "    \"ActionGeo_Long\": -75.2,\n",
    "    \"EventCode\": 120.0,\n",
    "    \"EventBaseCode\": 12.0,\n",
    "    \"EventRootCode\": 1.0,\n",
    "    \"Actor1Code\": 100.0,\n",
    "    \"Actor1Name\": 50.0,\n",
    "    \"Actor1CountryCode\": 10.0,\n",
    "    \"ActionGeo_CountryCode\": 30.0,\n",
    "    \"year\": 2024,\n",
    "    \"month\": 8,\n",
    "    \"day_of_year\": 230,\n",
    "    \"day_of_week\": 3,\n",
    "    \"is_weekend\": 0\n",
    "}\n",
    "\n",
    "# Test single\n",
    "single_result = requests.post(\"http://localhost:5002/predict\", json=single_data).json()\n",
    "print(\"Single prediction:\", single_result)\n",
    "\n",
    "# Test batch (your original data)\n",
    "batch_result = requests.post(\"http://localhost:5002/predict\", json=data).json()\n",
    "print(\"Batch predictions:\", batch_result)"
   ]
  },
  {
   "cell_type": "markdown",
   "id": "2a388f33",
   "metadata": {},
   "source": [
    "## Health Check"
   ]
  },
  {
   "cell_type": "code",
   "execution_count": 4,
   "id": "33f938e5",
   "metadata": {},
   "outputs": [
    {
     "name": "stdout",
     "output_type": "stream",
     "text": [
      "API Health: {'alias': 'cyber_dragon', 'model': 'gdelt-event-classifier', 'status': 'healthy'}\n"
     ]
    }
   ],
   "source": [
    "# Check if API is running\n",
    "health = requests.get(\"http://localhost:5002/health\").json()\n",
    "print(\"API Health:\", health)"
   ]
  },
  {
   "cell_type": "markdown",
   "id": "04635512",
   "metadata": {},
   "source": [
    "## Model Info"
   ]
  },
  {
   "cell_type": "code",
   "execution_count": 5,
   "id": "d4cad097",
   "metadata": {},
   "outputs": [
    {
     "name": "stdout",
     "output_type": "stream",
     "text": [
      "Model Info:\n",
      "alias: cyber_dragon\n",
      "expected_features: ['QuadClass', 'GoldsteinScale', 'ActionGeo_Lat', 'ActionGeo_Long', 'EventCode', 'EventBaseCode', 'EventRootCode', 'Actor1Code', 'Actor1Name', 'Actor1CountryCode', 'ActionGeo_CountryCode', 'year', 'month', 'day_of_year', 'day_of_week', 'is_weekend']\n",
      "model_name: gdelt-event-classifier\n",
      "model_uri: models:/gdelt-event-classifier@cyber_dragon\n"
     ]
    }
   ],
   "source": [
    "# Get model info\n",
    "model_info = requests.get(\"http://localhost:5002/model-info\").json()\n",
    "print(\"Model Info:\")\n",
    "for key, value in model_info.items():\n",
    "    print(f\"{key}: {value}\")"
   ]
  }
 ],
 "metadata": {
  "kernelspec": {
   "display_name": ".venv",
   "language": "python",
   "name": "python3"
  },
  "language_info": {
   "codemirror_mode": {
    "name": "ipython",
    "version": 3
   },
   "file_extension": ".py",
   "mimetype": "text/x-python",
   "name": "python",
   "nbconvert_exporter": "python",
   "pygments_lexer": "ipython3",
   "version": "3.12.11"
  }
 },
 "nbformat": 4,
 "nbformat_minor": 5
}
